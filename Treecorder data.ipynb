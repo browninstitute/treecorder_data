{
 "cells": [
  {
   "cell_type": "code",
   "execution_count": 2,
   "metadata": {},
   "outputs": [],
   "source": [
    "import matplotlib.pyplot as plt\n",
    "import matplotlib\n",
    "from mpl_toolkits.mplot3d import Axes3D\n",
    "import numpy as np\n",
    "import pandas as pd\n",
    "from matplotlib import interactive\n",
    "interactive(True)"
   ]
  },
  {
   "cell_type": "code",
   "execution_count": 3,
   "metadata": {},
   "outputs": [
    {
     "data": {
      "text/html": [
       "<div>\n",
       "<style scoped>\n",
       "    .dataframe tbody tr th:only-of-type {\n",
       "        vertical-align: middle;\n",
       "    }\n",
       "\n",
       "    .dataframe tbody tr th {\n",
       "        vertical-align: top;\n",
       "    }\n",
       "\n",
       "    .dataframe thead th {\n",
       "        text-align: right;\n",
       "    }\n",
       "</style>\n",
       "<table border=\"1\" class=\"dataframe\">\n",
       "  <thead>\n",
       "    <tr style=\"text-align: right;\">\n",
       "      <th></th>\n",
       "      <th>Date</th>\n",
       "      <th>Time</th>\n",
       "      <th>Moisture</th>\n",
       "      <th>Temperature</th>\n",
       "      <th>Humidity</th>\n",
       "      <th>X</th>\n",
       "      <th>Y</th>\n",
       "      <th>Z</th>\n",
       "      <th>R</th>\n",
       "      <th>G</th>\n",
       "      <th>B</th>\n",
       "    </tr>\n",
       "  </thead>\n",
       "  <tbody>\n",
       "    <tr>\n",
       "      <td>0</td>\n",
       "      <td>11/14/2019</td>\n",
       "      <td>13:16:03</td>\n",
       "      <td>283</td>\n",
       "      <td>124.99</td>\n",
       "      <td>99.99</td>\n",
       "      <td>2.00</td>\n",
       "      <td>0.25</td>\n",
       "      <td>1.01</td>\n",
       "      <td>NaN</td>\n",
       "      <td>NaN</td>\n",
       "      <td>NaN</td>\n",
       "    </tr>\n",
       "    <tr>\n",
       "      <td>1</td>\n",
       "      <td>11/14/2019</td>\n",
       "      <td>13:16:14</td>\n",
       "      <td>129</td>\n",
       "      <td>124.99</td>\n",
       "      <td>99.99</td>\n",
       "      <td>2.00</td>\n",
       "      <td>0.24</td>\n",
       "      <td>1.00</td>\n",
       "      <td>NaN</td>\n",
       "      <td>NaN</td>\n",
       "      <td>NaN</td>\n",
       "    </tr>\n",
       "    <tr>\n",
       "      <td>2</td>\n",
       "      <td>11/14/2019</td>\n",
       "      <td>13:16:25</td>\n",
       "      <td>128</td>\n",
       "      <td>124.99</td>\n",
       "      <td>99.99</td>\n",
       "      <td>2.00</td>\n",
       "      <td>0.23</td>\n",
       "      <td>1.00</td>\n",
       "      <td>NaN</td>\n",
       "      <td>NaN</td>\n",
       "      <td>NaN</td>\n",
       "    </tr>\n",
       "    <tr>\n",
       "      <td>3</td>\n",
       "      <td>11/14/2019</td>\n",
       "      <td>13:16:35</td>\n",
       "      <td>278</td>\n",
       "      <td>124.99</td>\n",
       "      <td>99.99</td>\n",
       "      <td>2.00</td>\n",
       "      <td>0.24</td>\n",
       "      <td>1.01</td>\n",
       "      <td>NaN</td>\n",
       "      <td>NaN</td>\n",
       "      <td>NaN</td>\n",
       "    </tr>\n",
       "    <tr>\n",
       "      <td>4</td>\n",
       "      <td>11/14/2019</td>\n",
       "      <td>13:16:46</td>\n",
       "      <td>120</td>\n",
       "      <td>124.99</td>\n",
       "      <td>99.99</td>\n",
       "      <td>2.00</td>\n",
       "      <td>0.23</td>\n",
       "      <td>1.06</td>\n",
       "      <td>NaN</td>\n",
       "      <td>NaN</td>\n",
       "      <td>NaN</td>\n",
       "    </tr>\n",
       "    <tr>\n",
       "      <td>...</td>\n",
       "      <td>...</td>\n",
       "      <td>...</td>\n",
       "      <td>...</td>\n",
       "      <td>...</td>\n",
       "      <td>...</td>\n",
       "      <td>...</td>\n",
       "      <td>...</td>\n",
       "      <td>...</td>\n",
       "      <td>...</td>\n",
       "      <td>...</td>\n",
       "      <td>...</td>\n",
       "    </tr>\n",
       "    <tr>\n",
       "      <td>417</td>\n",
       "      <td>11/20/2019</td>\n",
       "      <td>13:00:49</td>\n",
       "      <td>322</td>\n",
       "      <td>8.34</td>\n",
       "      <td>52.64</td>\n",
       "      <td>0.33</td>\n",
       "      <td>-0.19</td>\n",
       "      <td>0.91</td>\n",
       "      <td>NaN</td>\n",
       "      <td>NaN</td>\n",
       "      <td>NaN</td>\n",
       "    </tr>\n",
       "    <tr>\n",
       "      <td>418</td>\n",
       "      <td>11/20/2019</td>\n",
       "      <td>13:01:00</td>\n",
       "      <td>314</td>\n",
       "      <td>8.35</td>\n",
       "      <td>52.48</td>\n",
       "      <td>0.34</td>\n",
       "      <td>-0.20</td>\n",
       "      <td>0.91</td>\n",
       "      <td>NaN</td>\n",
       "      <td>NaN</td>\n",
       "      <td>NaN</td>\n",
       "    </tr>\n",
       "    <tr>\n",
       "      <td>419</td>\n",
       "      <td>11/20/2019</td>\n",
       "      <td>13:01:12</td>\n",
       "      <td>287</td>\n",
       "      <td>8.35</td>\n",
       "      <td>52.44</td>\n",
       "      <td>0.34</td>\n",
       "      <td>-0.20</td>\n",
       "      <td>0.90</td>\n",
       "      <td>NaN</td>\n",
       "      <td>NaN</td>\n",
       "      <td>NaN</td>\n",
       "    </tr>\n",
       "    <tr>\n",
       "      <td>420</td>\n",
       "      <td>11/20/2019</td>\n",
       "      <td>13:01:23</td>\n",
       "      <td>367</td>\n",
       "      <td>8.36</td>\n",
       "      <td>52.28</td>\n",
       "      <td>0.34</td>\n",
       "      <td>-0.19</td>\n",
       "      <td>0.91</td>\n",
       "      <td>NaN</td>\n",
       "      <td>NaN</td>\n",
       "      <td>NaN</td>\n",
       "    </tr>\n",
       "    <tr>\n",
       "      <td>421</td>\n",
       "      <td>11/20/2019</td>\n",
       "      <td>13:01:34</td>\n",
       "      <td>280</td>\n",
       "      <td>8.36</td>\n",
       "      <td>52.15</td>\n",
       "      <td>0.33</td>\n",
       "      <td>-0.19</td>\n",
       "      <td>0.90</td>\n",
       "      <td>NaN</td>\n",
       "      <td>NaN</td>\n",
       "      <td>NaN</td>\n",
       "    </tr>\n",
       "  </tbody>\n",
       "</table>\n",
       "<p>422 rows × 11 columns</p>\n",
       "</div>"
      ],
      "text/plain": [
       "           Date      Time  Moisture  Temperature  Humidity     X     Y     Z  \\\n",
       "0    11/14/2019  13:16:03       283       124.99     99.99  2.00  0.25  1.01   \n",
       "1    11/14/2019  13:16:14       129       124.99     99.99  2.00  0.24  1.00   \n",
       "2    11/14/2019  13:16:25       128       124.99     99.99  2.00  0.23  1.00   \n",
       "3    11/14/2019  13:16:35       278       124.99     99.99  2.00  0.24  1.01   \n",
       "4    11/14/2019  13:16:46       120       124.99     99.99  2.00  0.23  1.06   \n",
       "..          ...       ...       ...          ...       ...   ...   ...   ...   \n",
       "417  11/20/2019  13:00:49       322         8.34     52.64  0.33 -0.19  0.91   \n",
       "418  11/20/2019  13:01:00       314         8.35     52.48  0.34 -0.20  0.91   \n",
       "419  11/20/2019  13:01:12       287         8.35     52.44  0.34 -0.20  0.90   \n",
       "420  11/20/2019  13:01:23       367         8.36     52.28  0.34 -0.19  0.91   \n",
       "421  11/20/2019  13:01:34       280         8.36     52.15  0.33 -0.19  0.90   \n",
       "\n",
       "      R   G   B  \n",
       "0   NaN NaN NaN  \n",
       "1   NaN NaN NaN  \n",
       "2   NaN NaN NaN  \n",
       "3   NaN NaN NaN  \n",
       "4   NaN NaN NaN  \n",
       "..   ..  ..  ..  \n",
       "417 NaN NaN NaN  \n",
       "418 NaN NaN NaN  \n",
       "419 NaN NaN NaN  \n",
       "420 NaN NaN NaN  \n",
       "421 NaN NaN NaN  \n",
       "\n",
       "[422 rows x 11 columns]"
      ]
     },
     "execution_count": 3,
     "metadata": {},
     "output_type": "execute_result"
    }
   ],
   "source": [
    "data = pd.read_csv('treecorder_data.csv')\n",
    "\n",
    "def time_strings(data):\n",
    "    return [d + ' '+ t for d, t in zip(data['Date'], data['Time'])]\n",
    "\n",
    "data"
   ]
  },
  {
   "cell_type": "code",
   "execution_count": 86,
   "metadata": {},
   "outputs": [
    {
     "data": {
      "image/png": "[encoded data removed]",
      "text/plain": [
       "<Figure size 432x288 with 1 Axes>"
      ]
     },
     "metadata": {
      "needs_background": "light"
     },
     "output_type": "display_data"
    }
   ],
   "source": [
    "# %matplotlib qt\n",
    "%matplotlib inline \n",
    "fig = plt.figure()\n",
    "ax = fig.add_subplot(111, projection='3d')\n",
    "\n",
    "ax.scatter(data['X'], data['Y'], data['Z'])\n",
    "\n",
    "ax.set_xlabel('X')\n",
    "ax.set_ylabel('Y')\n",
    "ax.set_zlabel('Z')\n",
    "\n",
    "ax.set(title='Acceleromter position')\n",
    "plt.show()"
   ]
  },
  {
   "cell_type": "code",
   "execution_count": 23,
   "metadata": {},
   "outputs": [
    {
     "data": {
      "text/plain": [
       "[<matplotlib.lines.Line2D at 0x1277439e8>]"
      ]
     },
     "execution_count": 23,
     "metadata": {},
     "output_type": "execute_result"
    },
    {
     "data": {
      "image/png": "[encoded data removed]",
      "text/plain": [
       "<Figure size 432x288 with 1 Axes>"
      ]
     },
     "metadata": {
      "needs_background": "light"
     },
     "output_type": "display_data"
    }
   ],
   "source": [
    "%matplotlib inline \n",
    "late_data = data.iloc[231:]\n",
    "\n",
    "fig = plt.figure()\n",
    "ax = fig.add_subplot(111)\n",
    "x, y, z = late_data['X'], late_data['Y'], late_data['Z']\n",
    "dist = np.sqrt(x**2 + y**2 + z**2);\n",
    "ax.set(title='Distance from `0`', ylabel='Distance', ylim=[0,1.4])\n",
    "ax.set_xticklabels([d + ' '+ t for d, t in zip(late_data['Date'], late_data['Time'])], rotation=90)\n",
    "ax.plot(dist, linewidth=0.9)"
   ]
  },
  {
   "cell_type": "code",
   "execution_count": 42,
   "metadata": {},
   "outputs": [],
   "source": [
    "%matplotlib qt"
   ]
  },
  {
   "cell_type": "code",
   "execution_count": null,
   "metadata": {},
   "outputs": [],
   "source": [
    "%matplotlib inline "
   ]
  },
  {
   "cell_type": "code",
   "execution_count": 13,
   "metadata": {},
   "outputs": [
    {
     "name": "stdout",
     "output_type": "stream",
     "text": [
      "range 89 1023\n",
      "(422, 4)\n"
     ]
    },
    {
     "data": {
      "text/plain": [
       "[<matplotlib.lines.Line2D at 0x12d2bc748>]"
      ]
     },
     "execution_count": 13,
     "metadata": {},
     "output_type": "execute_result"
    },
    {
     "data": {
      "image/png": "[encoded data removed]",
      "text/plain": [
       "<Figure size 432x288 with 1 Axes>"
      ]
     },
     "metadata": {
      "needs_background": "light"
     },
     "output_type": "display_data"
    }
   ],
   "source": [
    "%matplotlib inline \n",
    "import matplotlib.cm as cm\n",
    "\n",
    "m_fig = plt.figure()\n",
    "m_ax = m_fig.add_subplot(111)\n",
    "\n",
    "moisture = data['Moisture']\n",
    "\n",
    "print('range', moisture.min(), moisture.max())\n",
    "\n",
    "moisture_color = cm.bone(moisture)\n",
    "\n",
    "print(np.shape(moisture_color))\n",
    "m_ax.set(title=\"Soil Moisture\")\n",
    "plt.xticks(range(len(data))[::20], data['Time'][::20], rotation=90)\n",
    "m_ax.plot(moisture, color='lightblue')"
   ]
  },
  {
   "cell_type": "code",
   "execution_count": 6,
   "metadata": {},
   "outputs": [],
   "source": [
    "## Define new color map\n",
    "from matplotlib.colors import ListedColormap\n",
    "\n",
    "N = 256\n",
    "c1 = np.array((151, 201, 199)) / N\n",
    "c2 = np.array((23, 38, 147)) / N\n",
    "vals = np.ones((N, 4))\n",
    "vals[:, 0] = np.linspace(c1[0], c2[0], N)\n",
    "vals[:, 1] = np.linspace(c1[1], c2[1], N)\n",
    "vals[:, 2] = np.linspace(c1[2], c2[2], N)\n",
    "rainfall = ListedColormap(vals)"
   ]
  },
  {
   "cell_type": "code",
   "execution_count": 8,
   "metadata": {},
   "outputs": [
    {
     "name": "stdout",
     "output_type": "stream",
     "text": [
      "11/14/2019 13:16:03\n",
      "2019-11-14 13:16:03\n"
     ]
    }
   ],
   "source": [
    "# Datetime conversion utils\n",
    "from datetime import datetime\n",
    "print(time_strings(data)[0])\n",
    "def time(string):\n",
    "    return datetime.strptime(string, '%m/%d/%Y %H:%M:%S')\n",
    "times = [time(s) for s in time_strings(data)]\n",
    "print(times[0])"
   ]
  },
  {
   "cell_type": "code",
   "execution_count": 10,
   "metadata": {},
   "outputs": [
    {
     "name": "stdout",
     "output_type": "stream",
     "text": [
      "(422, 11)\n"
     ]
    }
   ],
   "source": [
    "# https://stackoverflow.com/questions/38079366/matplotlib-line3dcollection-multicolored-line-edges-are-jagged\n",
    "# https://matplotlib.org/gallery/lines_bars_and_markers/multicolored_line.html#sphx-glr-gallery-lines-bars-and-markers-multicolored-line-py\n",
    "from mpl_toolkits.mplot3d.art3d import Line3DCollection\n",
    "\n",
    "# Toggle between these two lines for interactivity or inline plotting\n",
    "%matplotlib qt \n",
    "# %matplotlib inline \n",
    "\n",
    "fig2 = plt.figure()\n",
    "ax2 = fig2.add_subplot(111, projection='3d')\n",
    "\n",
    "data = pd.read_csv('treecorder_data.csv')\n",
    "# data = data.iloc[:229]\n",
    "print(np.shape(data))\n",
    "\n",
    "x_plus_t = data['X'] + np.multiply(range(len(data)), 10)\n",
    "\n",
    "x, y, z = x_plus_t, data['Y'], data['Z']\n",
    "points = np.array([x, y, z]).T.reshape(-1, 1, 3)\n",
    "segments = np.concatenate([points[:-1], points[1:]], axis=1)\n",
    "\n",
    "# Create a norm to map from data points to colors\n",
    "moisture = data['Moisture']\n",
    "norm = plt.Normalize(moisture.min(), moisture.max())\n",
    "lc = Line3DCollection(segments, cmap=rainfall, norm=norm)\n",
    "# Set the values used for colormapping\n",
    "lc.set_array(moisture)\n",
    "lc.set_linewidth(0.8)\n",
    "line = ax2.add_collection3d(lc)\n",
    "\n",
    "ax2.set_xlim(min(x), max(x))\n",
    "# ax2.set_ylim(0.125, 0.375)\n",
    "ax2.set_ylim(min(y), 0.375)\n",
    "ax2.set_zlim(0.9, 1.15)\n",
    "ax2.add_collection3d(lc)\n",
    "colorbar = fig2.colorbar(lc, ax=ax2)\n",
    "colorbar.set_label('Root Moisture')\n",
    "\n",
    "# ax2.set_xlabel('Time + X')\n",
    "ax2.xaxis._axinfo['label']['space_factor'] = 10\n",
    "ax2.set_ylabel('Y position (inches?)')\n",
    "ax2.set_zlabel('Z position')\n",
    "\n",
    "# Remove gridlines and pane backgrounds\n",
    "ax2.grid(False)\n",
    "ax2.xaxis.set_pane_color((1.0, 1.0, 1.0, 0.0))\n",
    "ax2.yaxis.set_pane_color((1.0, 1.0, 1.0, 0.0))\n",
    "ax2.zaxis.set_pane_color((1.0, 1.0, 1.0, 0.0))\n",
    "\n",
    "# Set x labels every 20th sample\n",
    "plt.xticks(x_plus_t[::20], time_strings(data)[::20], rotation=90)\n",
    "\n",
    "ax2.set(title='Acceleromter position')\n",
    "plt.show()"
   ]
  },
  {
   "cell_type": "code",
   "execution_count": 71,
   "metadata": {},
   "outputs": [
    {
     "data": {
      "text/plain": [
       "((229,), (229,))"
      ]
     },
     "execution_count": 71,
     "metadata": {},
     "output_type": "execute_result"
    }
   ],
   "source": [
    "np.shape(x_plus_t), np.shape(time_strings(data))"
   ]
  },
  {
   "cell_type": "code",
   "execution_count": 38,
   "metadata": {},
   "outputs": [],
   "source": []
  },
  {
   "cell_type": "code",
   "execution_count": null,
   "metadata": {},
   "outputs": [],
   "source": []
  },
  {
   "cell_type": "code",
   "execution_count": null,
   "metadata": {},
   "outputs": [],
   "source": []
  }
 ],
 "metadata": {
  "kernelspec": {
   "display_name": "Python 3",
   "language": "python",
   "name": "python3"
  },
  "language_info": {
   "codemirror_mode": {
    "name": "ipython",
    "version": 3
   },
   "file_extension": ".py",
   "mimetype": "text/x-python",
   "name": "python",
   "nbconvert_exporter": "python",
   "pygments_lexer": "ipython3",
   "version": "3.7.3"
  }
 },
 "nbformat": 4,
 "nbformat_minor": 2
}
